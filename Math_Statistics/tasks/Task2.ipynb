{
  "nbformat": 4,
  "nbformat_minor": 0,
  "metadata": {
    "colab": {
      "provenance": []
    },
    "kernelspec": {
      "name": "python3",
      "display_name": "Python 3"
    },
    "language_info": {
      "name": "python"
    }
  },
  "cells": [
    {
      "cell_type": "code",
      "execution_count": 8,
      "metadata": {
        "colab": {
          "base_uri": "https://localhost:8080/"
        },
        "id": "iR6us-e2TAvO",
        "outputId": "769fdd93-3ed6-4e39-dfd5-59af4d2ea03e"
      },
      "outputs": [
        {
          "output_type": "stream",
          "name": "stdout",
          "text": [
            "Статистика критерия Фишера: 0.4244897959183674\n"
          ]
        }
      ],
      "source": [
        "from scipy import stats\n",
        "\n",
        "X = [1, 0, 2, 1, 3, 2, 0]\n",
        "Y = [0, 2, 1, 4]\n",
        "\n",
        "# Вычисляем дисперсии выборок\n",
        "var_X = sum((xi - sum(X)/len(X))**2 for xi in X) / (len(X) - 1)\n",
        "var_Y = sum((yi - sum(Y)/len(Y))**2 for yi in Y) / (len(Y) - 1)\n",
        "\n",
        "# Находим статистику критерия Фишера\n",
        "F_statistic = var_X / var_Y\n",
        "\n",
        "print(\"Статистика критерия Фишера:\", F_statistic)\n"
      ]
    }
  ]
}