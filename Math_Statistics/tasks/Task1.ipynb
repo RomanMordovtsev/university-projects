{
  "nbformat": 4,
  "nbformat_minor": 0,
  "metadata": {
    "colab": {
      "provenance": []
    },
    "kernelspec": {
      "name": "python3",
      "display_name": "Python 3"
    },
    "language_info": {
      "name": "python"
    }
  },
  "cells": [
    {
      "cell_type": "code",
      "execution_count": 7,
      "metadata": {
        "colab": {
          "base_uri": "https://localhost:8080/"
        },
        "id": "iR6us-e2TAvO",
        "outputId": "99fd8f06-bff2-47ab-946c-b0ab5d236398"
      },
      "outputs": [
        {
          "output_type": "execute_result",
          "data": {
            "text/plain": [
              "(29.0, 0.8590597430968137)"
            ]
          },
          "metadata": {},
          "execution_count": 7
        }
      ],
      "source": [
        "import numpy as np\n",
        "from scipy.stats import mannwhitneyu\n",
        "\n",
        "# Данные выборок\n",
        "X = np.array([1, 2, 0, 1, 5, 3, 8, 9, 10])\n",
        "Y = np.array([0, 3, 4, 7, 2, 5])\n",
        "\n",
        "# Расчет статистики критерия Вилкоксона-Манна-Уитни\n",
        "U_statistic, p_value = mannwhitneyu(X, Y, alternative='two-sided')\n",
        "\n",
        "U_statistic, p_value\n"
      ]
    }
  ]
}