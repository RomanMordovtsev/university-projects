{
  "nbformat": 4,
  "nbformat_minor": 0,
  "metadata": {
    "colab": {
      "provenance": []
    },
    "kernelspec": {
      "name": "python3",
      "display_name": "Python 3"
    },
    "language_info": {
      "name": "python"
    }
  },
  "cells": [
    {
      "cell_type": "code",
      "execution_count": null,
      "metadata": {
        "id": "JUDf9Tx11d5l"
      },
      "outputs": [],
      "source": [
        "import numpy as np\n",
        "import scipy.stats as stats\n",
        "import matplotlib.pyplot as plt\n",
        "\n",
        "# Данные\n",
        "X1 = np.array([23.2, 20.1, 18.8, 24.1, 21.6, 22.8, 22.1, 25.2, 24.8, 20.6, 25.9, 27.0, 21.9, 23.5, 21.7, 21.1, 21.3, 18.3, 21.0, 23.8, 17.4, 17.3, 17.9, 20.6, 18.4, 24.2, 20.7, 22.0, 18.3, 22.6, 20.2, 21.5, 16.5, 21.3, 21.5, 17.9, 26.2, 29.1])\n",
        "X2 = np.array([24.2, 30.4, 21.7, 21.2, 20.7, 25.4, 17.8, 19.0, 21.5, 18.7, 22.1, 25.6, 19.6, 19.9, 21.9, 26.4, 21.9, 24.1, 21.1, 23.5, 23.9])\n",
        "\n",
        "alpha = 0.05\n",
        "L = 7"
      ]
    },
    {
      "cell_type": "markdown",
      "source": [
        "1. Средние арифметические и стандартные отклонения"
      ],
      "metadata": {
        "id": "vX0kXDul1sh7"
      }
    },
    {
      "cell_type": "code",
      "source": [
        "mean_X1 = np.mean(X1)\n",
        "mean_X2 = np.mean(X2)\n",
        "std_X1 = np.std(X1, ddof=1)\n",
        "std_X2 = np.std(X2, ddof=1)\n",
        "\n",
        "print(f\"Среднее арифметическое X1: {mean_X1}\")\n",
        "print(f\"Среднее арифметическое X2: {mean_X2}\")\n",
        "print(f\"Эмпирический стандарт (стандартное отклонение) X1: {std_X1}\")\n",
        "print(f\"Эмпирический стандарт (стандартное отклонение) X2: {std_X2}\")"
      ],
      "metadata": {
        "colab": {
          "base_uri": "https://localhost:8080/"
        },
        "id": "QYulbkyh1qO5",
        "outputId": "338789d1-1d82-48a9-a587-a66df3ffe730"
      },
      "execution_count": null,
      "outputs": [
        {
          "output_type": "stream",
          "name": "stdout",
          "text": [
            "Среднее арифметическое X1: 21.642105263157895\n",
            "Среднее арифметическое X2: 22.409523809523808\n",
            "Эмпирический стандарт (стандартное отклонение) X1: 2.9055986571079924\n",
            "Эмпирический стандарт (стандартное отклонение) X2: 2.9768951546711815\n"
          ]
        }
      ]
    },
    {
      "cell_type": "markdown",
      "source": [
        "2. Доверительные интервалы"
      ],
      "metadata": {
        "id": "v3Hp7uSs1z8V"
      }
    },
    {
      "cell_type": "code",
      "source": [
        "# Доверительный интервал для математического ожидания\n",
        "ci_mean_X1 = stats.t.interval(confidence=1-alpha, df=len(X1)-1, loc=mean_X1, scale=std_X1/np.sqrt(len(X1)))\n",
        "ci_mean_X2 = stats.t.interval(confidence=1-alpha, df=len(X2)-1, loc=mean_X2, scale=std_X2/np.sqrt(len(X2)))\n",
        "\n",
        "# Доверительный интервал для стандартного отклонения\n",
        "ci_std_X1 = (np.sqrt((len(X1)-1)*std_X1**2 / stats.chi2.ppf(1-alpha/2, len(X1)-1)),\n",
        "             np.sqrt((len(X1)-1)*std_X1**2 / stats.chi2.ppf(alpha/2, len(X1)-1)))\n",
        "\n",
        "ci_std_X2 = (np.sqrt((len(X2)-1)*std_X2**2 / stats.chi2.ppf(1-alpha/2, len(X2)-1)),\n",
        "             np.sqrt((len(X2)-1)*std_X2**2 / stats.chi2.ppf(alpha/2, len(X2)-1)))\n",
        "\n",
        "print(f\"Доверительный интервал для математического ожидания X1: {ci_mean_X1}\")\n",
        "print(f\"Доверительный интервал для математического ожидания X2: {ci_mean_X2}\")\n",
        "print(f\"Доверительный интервал для стандартного отклонения X1: {ci_std_X1}\")\n",
        "print(f\"Доверительный интервал для стандартного отклонения X2: {ci_std_X2}\")"
      ],
      "metadata": {
        "colab": {
          "base_uri": "https://localhost:8080/"
        },
        "id": "JemPmj1H11ti",
        "outputId": "b660f228-e978-4fb1-c650-7b808c101328"
      },
      "execution_count": null,
      "outputs": [
        {
          "output_type": "stream",
          "name": "stdout",
          "text": [
            "Доверительный интервал для математического ожидания X1: (20.687058749931463, 22.597151776384326)\n",
            "Доверительный интервал для математического ожидания X2: (21.054457381309206, 23.76459023773841)\n",
            "Доверительный интервал для стандартного отклонения X1: (2.3688293925482173, 3.75911028915913)\n",
            "Доверительный интервал для стандартного отклонения X2: (2.2775008395711684, 4.298843467746116)\n"
          ]
        }
      ]
    },
    {
      "cell_type": "markdown",
      "source": [
        "3. Проверка гипотезы о равенстве дисперсий"
      ],
      "metadata": {
        "id": "2rczHzY714Cg"
      }
    },
    {
      "cell_type": "code",
      "source": [
        "f_stat, p_value = stats.levene(X1, X2)\n",
        "print(f\"F-статистика: {f_stat}, p-значение: {p_value}\")"
      ],
      "metadata": {
        "colab": {
          "base_uri": "https://localhost:8080/"
        },
        "id": "iE3pAA8a15ob",
        "outputId": "1681869a-3213-4cc0-9e22-51a6d709b72b"
      },
      "execution_count": null,
      "outputs": [
        {
          "output_type": "stream",
          "name": "stdout",
          "text": [
            "F-статистика: 0.00012312207647597058, p-значение: 0.9911855695298417\n"
          ]
        }
      ]
    },
    {
      "cell_type": "markdown",
      "source": [
        "4. Сводная оценка стандартного отклонения (если гипотеза принята)"
      ],
      "metadata": {
        "id": "Hhl9OTfe18SO"
      }
    },
    {
      "cell_type": "code",
      "source": [
        "if p_value > alpha:\n",
        "    pooled_std = np.sqrt(((len(X1)-1)*std_X1**2 + (len(X2)-1)*std_X2**2) / (len(X1) + len(X2) - 2))\n",
        "    print(f\"Сводная оценка стандартного отклонения: {pooled_std}\")"
      ],
      "metadata": {
        "colab": {
          "base_uri": "https://localhost:8080/"
        },
        "id": "IxI-U_Mq1844",
        "outputId": "8f9f0386-9aa2-481e-f7a9-5990633a9fc5"
      },
      "execution_count": null,
      "outputs": [
        {
          "output_type": "stream",
          "name": "stdout",
          "text": [
            "Сводная оценка стандартного отклонения: 2.9308124938288365\n"
          ]
        }
      ]
    },
    {
      "cell_type": "markdown",
      "source": [
        "5. Проверка гипотезы о равенстве математических ожиданий"
      ],
      "metadata": {
        "id": "wfWlHXWW1-OK"
      }
    },
    {
      "cell_type": "code",
      "source": [
        "t_stat, p_value_ttest = stats.ttest_ind(X1, X2, equal_var=(p_value > alpha))\n",
        "print(f\"t-статистика: {t_stat}, p-значение: {p_value_ttest}\")"
      ],
      "metadata": {
        "colab": {
          "base_uri": "https://localhost:8080/"
        },
        "id": "t_Ivv60r1_oL",
        "outputId": "b0b6ef6d-48ca-4114-e77e-47ce71887ca5"
      },
      "execution_count": null,
      "outputs": [
        {
          "output_type": "stream",
          "name": "stdout",
          "text": [
            "t-статистика: -0.9629853856746327, p-значение: 0.33962255020935406\n"
          ]
        }
      ]
    },
    {
      "cell_type": "markdown",
      "source": [
        "6. Сводная оценка математического ожидания (если гипотеза принята)"
      ],
      "metadata": {
        "id": "80JO5oM_2ArO"
      }
    },
    {
      "cell_type": "code",
      "source": [
        "if p_value_ttest > alpha:\n",
        "    pooled_mean = (len(X1) * mean_X1 + len(X2) * mean_X2) / (len(X1) + len(X2))\n",
        "    print(f\"Сводная оценка математического ожидания: {pooled_mean}\")\n",
        "    pooled_variance = (1 / (len(X1) + len(X2) - 1)) * (np.sum(X1**2) + np.sum(X2**2) - len(X1) + len(X2) * pooled_mean**2)\n",
        "    pooled_std = np.sqrt(pooled_variance)\n",
        "    print(f\"Объединенная оценка стандартного отклонения: {pooled_std}\")"
      ],
      "metadata": {
        "colab": {
          "base_uri": "https://localhost:8080/"
        },
        "id": "EcHG3faR2BBu",
        "outputId": "eab43ab1-d9d0-4a6b-cb38-e59583d3994e"
      },
      "execution_count": null,
      "outputs": [
        {
          "output_type": "stream",
          "name": "stdout",
          "text": [
            "Сводная оценка математического ожидания: 21.915254237288135\n",
            "Объединенная оценка стандартного отклонения: 25.89163282966023\n"
          ]
        }
      ]
    },
    {
      "cell_type": "markdown",
      "source": [
        "7. Проверка нормальности данных"
      ],
      "metadata": {
        "id": "5QubrCJR2Cyr"
      }
    },
    {
      "cell_type": "code",
      "source": [
        "combined_data = np.concatenate((X1, X2))\n",
        "k2, p_value_normality = stats.normaltest(combined_data)\n",
        "print(f\"Статистика для проверки на нормальность: {k2}, p-значение: {p_value_normality}\")\n",
        "\n",
        "if p_value_normality > alpha:\n",
        "    print(\"Объединенные данные имеют нормальное распределение\")\n",
        "else:\n",
        "    print(\"Объединенные данные не имеют нормальное распределение\")"
      ],
      "metadata": {
        "colab": {
          "base_uri": "https://localhost:8080/"
        },
        "id": "oGWQ7CIn2Dzq",
        "outputId": "353b0e6f-d58b-462e-a58f-31c392a0776a"
      },
      "execution_count": null,
      "outputs": [
        {
          "output_type": "stream",
          "name": "stdout",
          "text": [
            "Статистика для проверки на нормальность: 3.53395597469448, p-значение: 0.17084851584507033\n",
            "Объединенные данные имеют нормальное распределение\n"
          ]
        }
      ]
    },
    {
      "cell_type": "markdown",
      "source": [
        "8. Построение гистограммы"
      ],
      "metadata": {
        "id": "V23fz_Y12F3p"
      }
    },
    {
      "cell_type": "code",
      "source": [
        "plt.hist(combined_data, bins=L, edgecolor='black')\n",
        "plt.title('Гистограмма объединенных данных')\n",
        "plt.xlabel('Значение')\n",
        "plt.ylabel('Частота')\n",
        "plt.show()"
      ],
      "metadata": {
        "colab": {
          "base_uri": "https://localhost:8080/",
          "height": 472
        },
        "id": "gqS_2mvG2Gkz",
        "outputId": "efd07163-dcb0-4afa-93cf-d373466a1170"
      },
      "execution_count": null,
      "outputs": [
        {
          "output_type": "display_data",
          "data": {
            "text/plain": [
              "<Figure size 640x480 with 1 Axes>"
            ],
            "image/png": "[encoded data removed]"
          },
          "metadata": {}
        }
      ]
    }
  ]
}