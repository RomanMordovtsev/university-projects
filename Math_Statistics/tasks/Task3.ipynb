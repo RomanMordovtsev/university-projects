{
  "nbformat": 4,
  "nbformat_minor": 0,
  "metadata": {
    "colab": {
      "provenance": []
    },
    "kernelspec": {
      "name": "python3",
      "display_name": "Python 3"
    },
    "language_info": {
      "name": "python"
    }
  },
  "cells": [
    {
      "cell_type": "code",
      "execution_count": 9,
      "metadata": {
        "colab": {
          "base_uri": "https://localhost:8080/"
        },
        "id": "iR6us-e2TAvO",
        "outputId": "1b67cca0-c04f-4c49-c5e8-4d0db173406e"
      },
      "outputs": [
        {
          "output_type": "execute_result",
          "data": {
            "text/plain": [
              "(11.25,\n",
              " 0.25896125611352744,\n",
              " 9,\n",
              " array([[0.2, 0.4, 0.2, 0.2],\n",
              "        [0.4, 0.8, 0.4, 0.4],\n",
              "        [0.2, 0.4, 0.2, 0.2],\n",
              "        [0.2, 0.4, 0.2, 0.2]]))"
            ]
          },
          "metadata": {},
          "execution_count": 9
        }
      ],
      "source": [
        "import numpy as np\n",
        "import pandas as pd\n",
        "from scipy.stats import chi2_contingency\n",
        "\n",
        "# Данные выборки\n",
        "data = [(1, 2), (0, 1), (2, 2), (3, 5), (1, 4)]\n",
        "\n",
        "# Создаем DataFrame\n",
        "df = pd.DataFrame(data, columns=['X', 'Y'])\n",
        "\n",
        "# Создаем таблицу сопряженности\n",
        "contingency_table = pd.crosstab(df['X'], df['Y'])\n",
        "\n",
        "# Проводим тест хи-квадрат\n",
        "chi2, p, dof, expected = chi2_contingency(contingency_table)\n",
        "\n",
        "chi2, p, dof, expected\n"
      ]
    }
  ]
}