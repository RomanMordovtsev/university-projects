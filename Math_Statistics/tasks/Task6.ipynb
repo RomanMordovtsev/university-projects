{
  "nbformat": 4,
  "nbformat_minor": 0,
  "metadata": {
    "colab": {
      "provenance": []
    },
    "kernelspec": {
      "name": "python3",
      "display_name": "Python 3"
    },
    "language_info": {
      "name": "python"
    }
  },
  "cells": [
    {
      "cell_type": "code",
      "execution_count": 14,
      "metadata": {
        "colab": {
          "base_uri": "https://localhost:8080/"
        },
        "id": "iR6us-e2TAvO",
        "outputId": "80cfe6c2-a942-4f1b-c4a8-f872c8648f68"
      },
      "outputs": [
        {
          "output_type": "execute_result",
          "data": {
            "text/plain": [
              "0.5671782581081438"
            ]
          },
          "metadata": {},
          "execution_count": 14
        }
      ],
      "source": [
        "import numpy as np\n",
        "\n",
        "# Данные выборок\n",
        "X = np.array([1, 2, 1, 3, 5, 0, 2])\n",
        "Y = np.array([2, 1, 0, 1, 2, 0, 0])\n",
        "\n",
        "# Вычисление выборочного коэффициента корреляции\n",
        "correlation_coefficient = np.corrcoef(X, Y)[0, 1]\n",
        "\n",
        "correlation_coefficient\n"
      ]
    }
  ]
}