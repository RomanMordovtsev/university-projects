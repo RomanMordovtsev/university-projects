{
  "nbformat": 4,
  "nbformat_minor": 0,
  "metadata": {
    "colab": {
      "provenance": []
    },
    "kernelspec": {
      "name": "python3",
      "display_name": "Python 3"
    },
    "language_info": {
      "name": "python"
    }
  },
  "cells": [
    {
      "cell_type": "code",
      "execution_count": 11,
      "metadata": {
        "colab": {
          "base_uri": "https://localhost:8080/"
        },
        "id": "iR6us-e2TAvO",
        "outputId": "aed668c4-e451-484d-cd34-135e0956894a"
      },
      "outputs": [
        {
          "output_type": "execute_result",
          "data": {
            "text/plain": [
              "(0.4024043784119227, 0.8177470752059752)"
            ]
          },
          "metadata": {},
          "execution_count": 11
        }
      ],
      "source": [
        "import numpy as np\n",
        "from scipy.stats import jarque_bera\n",
        "\n",
        "# Данные выборки\n",
        "X = np.array([1, 2, 5, 3, 0, 2, 2])\n",
        "\n",
        "# Расчет статистики критерия Жарка-Бера\n",
        "jb_statistic, p_value = jarque_bera(X)\n",
        "\n",
        "jb_statistic, p_value\n"
      ]
    }
  ]
}