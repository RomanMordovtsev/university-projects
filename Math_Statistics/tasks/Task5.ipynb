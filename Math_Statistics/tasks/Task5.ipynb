{
  "nbformat": 4,
  "nbformat_minor": 0,
  "metadata": {
    "colab": {
      "provenance": []
    },
    "kernelspec": {
      "name": "python3",
      "display_name": "Python 3"
    },
    "language_info": {
      "name": "python"
    }
  },
  "cells": [
    {
      "cell_type": "code",
      "execution_count": 13,
      "metadata": {
        "colab": {
          "base_uri": "https://localhost:8080/"
        },
        "id": "iR6us-e2TAvO",
        "outputId": "1d4f86c0-b178-4452-d6a2-c3cffab949ba"
      },
      "outputs": [
        {
          "output_type": "stream",
          "name": "stdout",
          "text": [
            "Коэффициент c (округленный до целого): 13\n"
          ]
        }
      ],
      "source": [
        "import numpy as np\n",
        "from scipy.optimize import curve_fit\n",
        "\n",
        "# Заданные данные\n",
        "x = np.array([7, 31, 61, 99, 129, 178, 209])\n",
        "y = np.array([13, 10, 9, 10, 12, 20, 26])\n",
        "\n",
        "# Функция, которую будем аппроксимировать (квадратичная)\n",
        "def func(x, a, b, c):\n",
        "    return a * x**2 + b * x + c\n",
        "\n",
        "# Подгонка коэффициентов a, b, c с помощью метода наименьших квадратов\n",
        "popt, pcov = curve_fit(func, x, y)\n",
        "\n",
        "# Извлечение коэффициента c (округленного до целого)\n",
        "c_coefficient = round(popt[2])\n",
        "\n",
        "print(\"Коэффициент c (округленный до целого):\", c_coefficient)\n"
      ]
    }
  ]
}